{
 "cells": [
  {
   "cell_type": "markdown",
   "metadata": {},
   "source": [
    "want: number electron/volume (unit: cm-3)\n",
    "n_e = density*ionized fraction/proton mass (use electron abundance)\n",
    "\n",
    "n_e = electronabundance * n_H\n",
    "get ne for each position\n",
    "sum over length for path.\n",
    "\n",
    "want distribution of DM for entire galaxy\n",
    "sightline going thru galaxy vs cgm alone\n",
    "- 0.15*R200"
   ]
  },
  {
   "cell_type": "markdown",
   "metadata": {},
   "source": [
    "proton mass = 8.4e-58 M_sun"
   ]
  },
  {
   "cell_type": "code",
   "execution_count": 1,
   "metadata": {},
   "outputs": [
    {
     "data": {
      "text/html": [
       "<div>\n",
       "<style scoped>\n",
       "    .dataframe tbody tr th:only-of-type {\n",
       "        vertical-align: middle;\n",
       "    }\n",
       "\n",
       "    .dataframe tbody tr th {\n",
       "        vertical-align: top;\n",
       "    }\n",
       "\n",
       "    .dataframe thead th {\n",
       "        text-align: right;\n",
       "    }\n",
       "</style>\n",
       "<table border=\"1\" class=\"dataframe\">\n",
       "  <thead>\n",
       "    <tr style=\"text-align: right;\">\n",
       "      <th></th>\n",
       "      <th>col1</th>\n",
       "      <th>col2</th>\n",
       "    </tr>\n",
       "  </thead>\n",
       "  <tbody>\n",
       "    <tr>\n",
       "      <th>0</th>\n",
       "      <td>1</td>\n",
       "      <td>3</td>\n",
       "    </tr>\n",
       "    <tr>\n",
       "      <th>1</th>\n",
       "      <td>2</td>\n",
       "      <td>4</td>\n",
       "    </tr>\n",
       "    <tr>\n",
       "      <th>2</th>\n",
       "      <td>3</td>\n",
       "      <td>5</td>\n",
       "    </tr>\n",
       "    <tr>\n",
       "      <th>3</th>\n",
       "      <td>4</td>\n",
       "      <td>6</td>\n",
       "    </tr>\n",
       "    <tr>\n",
       "      <th>4</th>\n",
       "      <td>5</td>\n",
       "      <td>7</td>\n",
       "    </tr>\n",
       "    <tr>\n",
       "      <th>5</th>\n",
       "      <td>6</td>\n",
       "      <td>8</td>\n",
       "    </tr>\n",
       "  </tbody>\n",
       "</table>\n",
       "</div>"
      ],
      "text/plain": [
       "   col1  col2\n",
       "0     1     3\n",
       "1     2     4\n",
       "2     3     5\n",
       "3     4     6\n",
       "4     5     7\n",
       "5     6     8"
      ]
     },
     "execution_count": 1,
     "metadata": {},
     "output_type": "execute_result"
    }
   ],
   "source": [
    "import numpy as np\n",
    "import pandas as pd \n",
    "\n",
    "d = {'col1': [1, 2, 3, 4, 5, 6], 'col2': [3, 4, 5, 6, 7, 8]}\n",
    "df = pd.DataFrame(data=d)\n",
    "\n",
    "df"
   ]
  },
  {
   "cell_type": "code",
   "execution_count": 4,
   "metadata": {},
   "outputs": [
    {
     "data": {
      "text/plain": [
       "array([3.16227766, 4.47213595])"
      ]
     },
     "execution_count": 4,
     "metadata": {},
     "output_type": "execute_result"
    }
   ],
   "source": [
    "np.linalg.norm([[1,2],[3,4]], axis = 0)"
   ]
  },
  {
   "cell_type": "code",
   "execution_count": 14,
   "metadata": {},
   "outputs": [
    {
     "data": {
      "text/plain": [
       "0    False\n",
       "1    False\n",
       "2    False\n",
       "3     True\n",
       "4     True\n",
       "5     True\n",
       "Name: col1, dtype: bool"
      ]
     },
     "execution_count": 14,
     "metadata": {},
     "output_type": "execute_result"
    }
   ],
   "source": [
    "mask = (df['col1'] > 3)\n",
    "mask"
   ]
  },
  {
   "cell_type": "code",
   "execution_count": 18,
   "metadata": {},
   "outputs": [
    {
     "data": {
      "text/html": [
       "<div>\n",
       "<style scoped>\n",
       "    .dataframe tbody tr th:only-of-type {\n",
       "        vertical-align: middle;\n",
       "    }\n",
       "\n",
       "    .dataframe tbody tr th {\n",
       "        vertical-align: top;\n",
       "    }\n",
       "\n",
       "    .dataframe thead th {\n",
       "        text-align: right;\n",
       "    }\n",
       "</style>\n",
       "<table border=\"1\" class=\"dataframe\">\n",
       "  <thead>\n",
       "    <tr style=\"text-align: right;\">\n",
       "      <th></th>\n",
       "      <th>col1</th>\n",
       "      <th>col2</th>\n",
       "    </tr>\n",
       "  </thead>\n",
       "  <tbody>\n",
       "    <tr>\n",
       "      <th>3</th>\n",
       "      <td>4</td>\n",
       "      <td>6</td>\n",
       "    </tr>\n",
       "    <tr>\n",
       "      <th>4</th>\n",
       "      <td>5</td>\n",
       "      <td>7</td>\n",
       "    </tr>\n",
       "    <tr>\n",
       "      <th>5</th>\n",
       "      <td>6</td>\n",
       "      <td>8</td>\n",
       "    </tr>\n",
       "  </tbody>\n",
       "</table>\n",
       "</div>"
      ],
      "text/plain": [
       "   col1  col2\n",
       "3     4     6\n",
       "4     5     7\n",
       "5     6     8"
      ]
     },
     "execution_count": 18,
     "metadata": {},
     "output_type": "execute_result"
    }
   ],
   "source": [
    "df_new = df[mask]\n",
    "df_new"
   ]
  },
  {
   "cell_type": "code",
   "execution_count": 23,
   "metadata": {},
   "outputs": [
    {
     "data": {
      "text/html": [
       "<div>\n",
       "<style scoped>\n",
       "    .dataframe tbody tr th:only-of-type {\n",
       "        vertical-align: middle;\n",
       "    }\n",
       "\n",
       "    .dataframe tbody tr th {\n",
       "        vertical-align: top;\n",
       "    }\n",
       "\n",
       "    .dataframe thead th {\n",
       "        text-align: right;\n",
       "    }\n",
       "</style>\n",
       "<table border=\"1\" class=\"dataframe\">\n",
       "  <thead>\n",
       "    <tr style=\"text-align: right;\">\n",
       "      <th></th>\n",
       "      <th>col1</th>\n",
       "      <th>col2</th>\n",
       "      <th>new</th>\n",
       "    </tr>\n",
       "  </thead>\n",
       "  <tbody>\n",
       "    <tr>\n",
       "      <th>3</th>\n",
       "      <td>4</td>\n",
       "      <td>6</td>\n",
       "      <td>2</td>\n",
       "    </tr>\n",
       "    <tr>\n",
       "      <th>4</th>\n",
       "      <td>5</td>\n",
       "      <td>7</td>\n",
       "      <td>2</td>\n",
       "    </tr>\n",
       "    <tr>\n",
       "      <th>5</th>\n",
       "      <td>6</td>\n",
       "      <td>8</td>\n",
       "      <td>2</td>\n",
       "    </tr>\n",
       "  </tbody>\n",
       "</table>\n",
       "</div>"
      ],
      "text/plain": [
       "   col1  col2  new\n",
       "3     4     6    2\n",
       "4     5     7    2\n",
       "5     6     8    2"
      ]
     },
     "execution_count": 23,
     "metadata": {},
     "output_type": "execute_result"
    }
   ],
   "source": [
    "df_new.loc[:,'new'] = 2\n",
    "\n",
    "df_new"
   ]
  },
  {
   "cell_type": "code",
   "execution_count": 1,
   "metadata": {},
   "outputs": [],
   "source": [
    "# attempt at reading in hdf5 files\n",
    "# coding: utf-8\n",
    "import halo_analysis as halo\n",
    "import gizmo_analysis as gizmo\n",
    "from gizmo_analysis import io\n",
    "import h5py\n",
    "import numpy as np\n",
    "import os\n",
    "from astropy import units as u\n",
    "import matplotlib\n",
    "import matplotlib.pyplot as plt\n",
    "from scipy import stats"
   ]
  },
  {
   "cell_type": "code",
   "execution_count": 64,
   "metadata": {},
   "outputs": [],
   "source": [
    "fh = h5py.File('/ceph/submit/data/user/z/zimi/analysis/FIRE/m12z_res4200/output/snapshot_600.1.hdf5', 'r')\n",
    "gas = fh[\"PartType0\"]"
   ]
  },
  {
   "cell_type": "code",
   "execution_count": null,
   "metadata": {},
   "outputs": [],
   "source": [
    "host = halo.io.IO.read_catalogs('redshift', 0,'/ceph/submit/data/user/z/zimi/analysis/FIRE/m12f_res7100', species='gas')\n",
    "header = gizmo.io.Read.read_header('/ceph/submit/data/user/z/zimi/analysis/FIRE/m12f_res7100')"
   ]
  },
  {
   "cell_type": "code",
   "execution_count": 13,
   "metadata": {},
   "outputs": [
    {
     "data": {
      "text/plain": [
       "np.float32(21.152422)"
      ]
     },
     "execution_count": 13,
     "metadata": {},
     "output_type": "execute_result"
    }
   ],
   "source": [
    "host['scale.radius'][53425]"
   ]
  },
  {
   "cell_type": "code",
   "execution_count": 12,
   "metadata": {},
   "outputs": [
    {
     "data": {
      "text/plain": [
       "np.float32(1273874600000.0)"
      ]
     },
     "execution_count": 12,
     "metadata": {},
     "output_type": "execute_result"
    }
   ],
   "source": [
    "host['mass.vir'][53425]"
   ]
  },
  {
   "cell_type": "code",
   "execution_count": 11,
   "metadata": {},
   "outputs": [
    {
     "data": {
      "text/plain": [
       "np.float32(1076096800000.0)"
      ]
     },
     "execution_count": 11,
     "metadata": {},
     "output_type": "execute_result"
    }
   ],
   "source": [
    "host['mass.200c'][53425]"
   ]
  },
  {
   "cell_type": "code",
   "execution_count": null,
   "metadata": {},
   "outputs": [],
   "source": [
    "prop = ['position', 'mass']\n",
    "part = gizmo.io.Read.read_snapshots(['gas'], 'redshift', 0, '/ceph/submit/data/user/z/zimi/analysis/FIRE/m12z_res4200', properties = 'all', assign_hosts_rotation=True)"
   ]
  },
  {
   "cell_type": "code",
   "execution_count": 11,
   "metadata": {},
   "outputs": [],
   "source": [
    "def plot2d(x, y, value, cmap = 'viridis', bins = 150, norm = None, vmin = None, vmax = None):\n",
    "    mean, xbins, ybins, binnumber = stats.binned_statistic_2d(x, y, value, bins = bins)\n",
    "\n",
    "    # with np.errstate(divide='ignore', invalid='ignore'):  # suppress possible divide-by-zero warnings\n",
    "    plot = plt.pcolormesh(ybins, xbins, mean, cmap = cmap, norm = norm, vmin = vmin, vmax = vmax)\n",
    "\n",
    "    return plot"
   ]
  },
  {
   "cell_type": "code",
   "execution_count": null,
   "metadata": {},
   "outputs": [
    {
     "ename": "KeyError",
     "evalue": "'dist_z'",
     "output_type": "error",
     "traceback": [
      "\u001b[31m---------------------------------------------------------------------------\u001b[39m",
      "\u001b[31mKeyError\u001b[39m                                  Traceback (most recent call last)",
      "\u001b[36mCell\u001b[39m\u001b[36m \u001b[39m\u001b[32mIn[15]\u001b[39m\u001b[32m, line 1\u001b[39m\n\u001b[32m----> \u001b[39m\u001b[32m1\u001b[39m binsize_plot = plot2d(\u001b[43mhalo_gas\u001b[49m\u001b[43m[\u001b[49m\u001b[33;43m'\u001b[39;49m\u001b[33;43mdist_z\u001b[39;49m\u001b[33;43m'\u001b[39;49m\u001b[43m]\u001b[49m, halo_gas[\u001b[33m'\u001b[39m\u001b[33mdist_y\u001b[39m\u001b[33m'\u001b[39m], value = halo_gas[\u001b[33m'\u001b[39m\u001b[33msmoothing_len\u001b[39m\u001b[33m'\u001b[39m], cmap = \u001b[33m'\u001b[39m\u001b[33mviridis_r\u001b[39m\u001b[33m'\u001b[39m, bins = [\u001b[32m700\u001b[39m,\u001b[32m700\u001b[39m])\n\u001b[32m      2\u001b[39m plt.axis(\u001b[33m'\u001b[39m\u001b[33mequal\u001b[39m\u001b[33m'\u001b[39m)\n",
      "\u001b[31mKeyError\u001b[39m: 'dist_z'"
     ]
    }
   ],
   "source": [
    "binsize_plot = plot2d(halo_gas['position'][:,2], halo_gas['dist_y'], value = halo_gas['smoothing_len'], cmap = 'viridis_r', bins = [700,700])\n",
    "plt.axis('equal')"
   ]
  },
  {
   "cell_type": "code",
   "execution_count": 23,
   "metadata": {},
   "outputs": [],
   "source": [
    "f_e = gas['ElectronAbundance']\n",
    "y = gas['Metallicity'][:, 1]\n",
    "mu = 1/((1-y) + y/4 + (1-y)*f_e)"
   ]
  },
  {
   "cell_type": "code",
   "execution_count": 2,
   "metadata": {},
   "outputs": [],
   "source": [
    "num_points = 20\n",
    "radius = 10\n",
    "coordinates = []\n",
    "for i in range(num_points):\n",
    "    angle = 2 * np.pi * i / num_points  # Calculate angle in radians\n",
    "    x = radius * np.cos(angle)\n",
    "    y = radius * np.sin(angle)\n",
    "    coordinates.append([x, y, 0])\n",
    "\n",
    "coordinates = np.array(coordinates)"
   ]
  },
  {
   "cell_type": "code",
   "execution_count": null,
   "metadata": {},
   "outputs": [],
   "source": [
    "from scipy.linalg import expm\n",
    "def Rodrigues(k, theta):\n",
    "    \"\"\"\n",
    "    Uses the Rodrigues' rotation formula to return the rotation matrix for\n",
    "    rotating a vector by an angle theta about an axis specified by unit \n",
    "    vector k.\n",
    "    \"\"\"\n",
    "    K = np.cross(np.eye(3), k)\n",
    "    return expm(K*theta)"
   ]
  },
  {
   "cell_type": "code",
   "execution_count": 24,
   "metadata": {},
   "outputs": [],
   "source": [
    "rot = Rodrigues((1,0,0), (np.pi)/3)\n",
    "c2 = np.dot(coordinates, rot.T)"
   ]
  },
  {
   "cell_type": "code",
   "execution_count": 26,
   "metadata": {},
   "outputs": [
    {
     "data": {
      "text/plain": [
       "(-10.0, 10.0)"
      ]
     },
     "execution_count": 26,
     "metadata": {},
     "output_type": "execute_result"
    },
    {
     "data": {
      "image/png": "[encoded data removed]",
      "text/plain": [
       "<Figure size 640x480 with 1 Axes>"
      ]
     },
     "metadata": {},
     "output_type": "display_data"
    }
   ],
   "source": [
    "from matplotlib import pyplot as plt\n",
    "plt.scatter(c2[:,0], c2[:, 1])\n",
    "plt.xlim(-10, 10)\n",
    "plt.ylim(-10, 10)"
   ]
  },
  {
   "cell_type": "code",
   "execution_count": 34,
   "metadata": {},
   "outputs": [],
   "source": [
    "from pathlib import Path\n",
    "import h5py"
   ]
  },
  {
   "cell_type": "code",
   "execution_count": 35,
   "metadata": {},
   "outputs": [
    {
     "name": "stdout",
     "output_type": "stream",
     "text": [
      "[ 2.0945355e-23  2.1593557e-23  2.1488839e-23 ... -1.0038116e-23\n",
      " -1.0055212e-23 -9.8985533e-24]\n"
     ]
    }
   ],
   "source": [
    "cooling_dir = '/ceph/submit/data/user/z/zimi/analysis/FIRE/m12z_res4200/cooling_output'\n",
    "dir = Path(cooling_dir)\n",
    "for file in sorted(dir.glob(f\"cooling_600_ambient.0.hdf5\")):\n",
    "    with h5py.File(file, 'r') as fh:\n",
    "        cooling_time_seconds = fh[f'Ambient/time'][()] #* fh[f'{phase}/time'].attrs['to_cgs']     # Cooling times in seconds\n",
    "        cooling_rate_cgs = fh[f'Ambient/rate'][()] #* fh[f'{phase}/rate'].attrs['to_cgs']    # Cooling rate in erg sec^-1 cm^3\n",
    "\n",
    "print(cooling_rate_cgs)"
   ]
  },
  {
   "cell_type": "code",
   "execution_count": 10,
   "metadata": {},
   "outputs": [
    {
     "name": "stdout",
     "output_type": "stream",
     "text": [
      "[-2.6586455e-23 -4.3695652e-24 -2.0304944e-23 ...  3.6138866e-24\n",
      "  3.5625199e-24  3.5060300e-24]\n"
     ]
    }
   ],
   "source": [
    "cooling_dir = '/ceph/submit/data/user/z/zimi/analysis/FIRE/m12f_res7100/output'\n",
    "dir = Path(cooling_dir)\n",
    "for file in sorted(dir.glob(f\"cooling_600_ambient.0.hdf5\")):\n",
    "    with h5py.File(file, 'r') as fh:\n",
    "        cooling_time_seconds = fh[f'Ambient/time'][()] #* fh[f'{phase}/time'].attrs['to_cgs']     # Cooling times in seconds\n",
    "        cooling_rate_cgs = fh[f'Ambient/rate'][()] #* fh[f'{phase}/rate'].attrs['to_cgs']    # Cooling rate in erg sec^-1 cm^3\n",
    "\n",
    "print(cooling_rate_cgs)"
   ]
  }
 ],
 "metadata": {
  "kernelspec": {
   "display_name": "frb-env",
   "language": "python",
   "name": "python3"
  },
  "language_info": {
   "codemirror_mode": {
    "name": "ipython",
    "version": 3
   },
   "file_extension": ".py",
   "mimetype": "text/x-python",
   "name": "python",
   "nbconvert_exporter": "python",
   "pygments_lexer": "ipython3",
   "version": "3.12.10"
  }
 },
 "nbformat": 4,
 "nbformat_minor": 2
}
