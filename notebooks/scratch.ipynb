{
 "cells": [
  {
   "cell_type": "markdown",
   "metadata": {},
   "source": [
    "want: number electron/volume (unit: cm-3)\n",
    "n_e = density*ionized fraction/proton mass (use electron abundance)\n",
    "\n",
    "n_e = electronabundance * n_H\n",
    "get ne for each position\n",
    "sum over length for path.\n",
    "\n",
    "want distribution of DM for entire galaxy\n",
    "sightline going thru galaxy vs cgm alone\n",
    "- 0.15*R200"
   ]
  },
  {
   "cell_type": "markdown",
   "metadata": {},
   "source": [
    "proton mass = 8.4e-58 M_sun"
   ]
  },
  {
   "cell_type": "code",
   "execution_count": 1,
   "metadata": {},
   "outputs": [
    {
     "data": {
      "text/html": [
       "<div>\n",
       "<style scoped>\n",
       "    .dataframe tbody tr th:only-of-type {\n",
       "        vertical-align: middle;\n",
       "    }\n",
       "\n",
       "    .dataframe tbody tr th {\n",
       "        vertical-align: top;\n",
       "    }\n",
       "\n",
       "    .dataframe thead th {\n",
       "        text-align: right;\n",
       "    }\n",
       "</style>\n",
       "<table border=\"1\" class=\"dataframe\">\n",
       "  <thead>\n",
       "    <tr style=\"text-align: right;\">\n",
       "      <th></th>\n",
       "      <th>col1</th>\n",
       "      <th>col2</th>\n",
       "    </tr>\n",
       "  </thead>\n",
       "  <tbody>\n",
       "    <tr>\n",
       "      <th>0</th>\n",
       "      <td>1</td>\n",
       "      <td>3</td>\n",
       "    </tr>\n",
       "    <tr>\n",
       "      <th>1</th>\n",
       "      <td>2</td>\n",
       "      <td>4</td>\n",
       "    </tr>\n",
       "    <tr>\n",
       "      <th>2</th>\n",
       "      <td>3</td>\n",
       "      <td>5</td>\n",
       "    </tr>\n",
       "    <tr>\n",
       "      <th>3</th>\n",
       "      <td>4</td>\n",
       "      <td>6</td>\n",
       "    </tr>\n",
       "    <tr>\n",
       "      <th>4</th>\n",
       "      <td>5</td>\n",
       "      <td>7</td>\n",
       "    </tr>\n",
       "    <tr>\n",
       "      <th>5</th>\n",
       "      <td>6</td>\n",
       "      <td>8</td>\n",
       "    </tr>\n",
       "  </tbody>\n",
       "</table>\n",
       "</div>"
      ],
      "text/plain": [
       "   col1  col2\n",
       "0     1     3\n",
       "1     2     4\n",
       "2     3     5\n",
       "3     4     6\n",
       "4     5     7\n",
       "5     6     8"
      ]
     },
     "execution_count": 1,
     "metadata": {},
     "output_type": "execute_result"
    }
   ],
   "source": [
    "import numpy as np\n",
    "import pandas as pd \n",
    "\n",
    "d = {'col1': [1, 2, 3, 4, 5, 6], 'col2': [3, 4, 5, 6, 7, 8]}\n",
    "df = pd.DataFrame(data=d)\n",
    "\n",
    "df"
   ]
  },
  {
   "cell_type": "code",
   "execution_count": 4,
   "metadata": {},
   "outputs": [
    {
     "data": {
      "text/plain": [
       "array([3.16227766, 4.47213595])"
      ]
     },
     "execution_count": 4,
     "metadata": {},
     "output_type": "execute_result"
    }
   ],
   "source": [
    "np.linalg.norm([[1,2],[3,4]], axis = 0)"
   ]
  },
  {
   "cell_type": "code",
   "execution_count": 14,
   "metadata": {},
   "outputs": [
    {
     "data": {
      "text/plain": [
       "0    False\n",
       "1    False\n",
       "2    False\n",
       "3     True\n",
       "4     True\n",
       "5     True\n",
       "Name: col1, dtype: bool"
      ]
     },
     "execution_count": 14,
     "metadata": {},
     "output_type": "execute_result"
    }
   ],
   "source": [
    "mask = (df['col1'] > 3)\n",
    "mask"
   ]
  },
  {
   "cell_type": "code",
   "execution_count": 18,
   "metadata": {},
   "outputs": [
    {
     "data": {
      "text/html": [
       "<div>\n",
       "<style scoped>\n",
       "    .dataframe tbody tr th:only-of-type {\n",
       "        vertical-align: middle;\n",
       "    }\n",
       "\n",
       "    .dataframe tbody tr th {\n",
       "        vertical-align: top;\n",
       "    }\n",
       "\n",
       "    .dataframe thead th {\n",
       "        text-align: right;\n",
       "    }\n",
       "</style>\n",
       "<table border=\"1\" class=\"dataframe\">\n",
       "  <thead>\n",
       "    <tr style=\"text-align: right;\">\n",
       "      <th></th>\n",
       "      <th>col1</th>\n",
       "      <th>col2</th>\n",
       "    </tr>\n",
       "  </thead>\n",
       "  <tbody>\n",
       "    <tr>\n",
       "      <th>3</th>\n",
       "      <td>4</td>\n",
       "      <td>6</td>\n",
       "    </tr>\n",
       "    <tr>\n",
       "      <th>4</th>\n",
       "      <td>5</td>\n",
       "      <td>7</td>\n",
       "    </tr>\n",
       "    <tr>\n",
       "      <th>5</th>\n",
       "      <td>6</td>\n",
       "      <td>8</td>\n",
       "    </tr>\n",
       "  </tbody>\n",
       "</table>\n",
       "</div>"
      ],
      "text/plain": [
       "   col1  col2\n",
       "3     4     6\n",
       "4     5     7\n",
       "5     6     8"
      ]
     },
     "execution_count": 18,
     "metadata": {},
     "output_type": "execute_result"
    }
   ],
   "source": [
    "df_new = df[mask]\n",
    "df_new"
   ]
  },
  {
   "cell_type": "code",
   "execution_count": 23,
   "metadata": {},
   "outputs": [
    {
     "data": {
      "text/html": [
       "<div>\n",
       "<style scoped>\n",
       "    .dataframe tbody tr th:only-of-type {\n",
       "        vertical-align: middle;\n",
       "    }\n",
       "\n",
       "    .dataframe tbody tr th {\n",
       "        vertical-align: top;\n",
       "    }\n",
       "\n",
       "    .dataframe thead th {\n",
       "        text-align: right;\n",
       "    }\n",
       "</style>\n",
       "<table border=\"1\" class=\"dataframe\">\n",
       "  <thead>\n",
       "    <tr style=\"text-align: right;\">\n",
       "      <th></th>\n",
       "      <th>col1</th>\n",
       "      <th>col2</th>\n",
       "      <th>new</th>\n",
       "    </tr>\n",
       "  </thead>\n",
       "  <tbody>\n",
       "    <tr>\n",
       "      <th>3</th>\n",
       "      <td>4</td>\n",
       "      <td>6</td>\n",
       "      <td>2</td>\n",
       "    </tr>\n",
       "    <tr>\n",
       "      <th>4</th>\n",
       "      <td>5</td>\n",
       "      <td>7</td>\n",
       "      <td>2</td>\n",
       "    </tr>\n",
       "    <tr>\n",
       "      <th>5</th>\n",
       "      <td>6</td>\n",
       "      <td>8</td>\n",
       "      <td>2</td>\n",
       "    </tr>\n",
       "  </tbody>\n",
       "</table>\n",
       "</div>"
      ],
      "text/plain": [
       "   col1  col2  new\n",
       "3     4     6    2\n",
       "4     5     7    2\n",
       "5     6     8    2"
      ]
     },
     "execution_count": 23,
     "metadata": {},
     "output_type": "execute_result"
    }
   ],
   "source": [
    "df_new.loc[:,'new'] = 2\n",
    "\n",
    "df_new"
   ]
  },
  {
   "cell_type": "code",
   "execution_count": 24,
   "metadata": {},
   "outputs": [
    {
     "data": {
      "text/html": [
       "<div>\n",
       "<style scoped>\n",
       "    .dataframe tbody tr th:only-of-type {\n",
       "        vertical-align: middle;\n",
       "    }\n",
       "\n",
       "    .dataframe tbody tr th {\n",
       "        vertical-align: top;\n",
       "    }\n",
       "\n",
       "    .dataframe thead th {\n",
       "        text-align: right;\n",
       "    }\n",
       "</style>\n",
       "<table border=\"1\" class=\"dataframe\">\n",
       "  <thead>\n",
       "    <tr style=\"text-align: right;\">\n",
       "      <th></th>\n",
       "      <th>col1</th>\n",
       "      <th>col2</th>\n",
       "    </tr>\n",
       "  </thead>\n",
       "  <tbody>\n",
       "    <tr>\n",
       "      <th>0</th>\n",
       "      <td>1</td>\n",
       "      <td>3</td>\n",
       "    </tr>\n",
       "    <tr>\n",
       "      <th>1</th>\n",
       "      <td>2</td>\n",
       "      <td>4</td>\n",
       "    </tr>\n",
       "    <tr>\n",
       "      <th>2</th>\n",
       "      <td>3</td>\n",
       "      <td>5</td>\n",
       "    </tr>\n",
       "    <tr>\n",
       "      <th>3</th>\n",
       "      <td>4</td>\n",
       "      <td>6</td>\n",
       "    </tr>\n",
       "    <tr>\n",
       "      <th>4</th>\n",
       "      <td>5</td>\n",
       "      <td>7</td>\n",
       "    </tr>\n",
       "    <tr>\n",
       "      <th>5</th>\n",
       "      <td>6</td>\n",
       "      <td>8</td>\n",
       "    </tr>\n",
       "  </tbody>\n",
       "</table>\n",
       "</div>"
      ],
      "text/plain": [
       "   col1  col2\n",
       "0     1     3\n",
       "1     2     4\n",
       "2     3     5\n",
       "3     4     6\n",
       "4     5     7\n",
       "5     6     8"
      ]
     },
     "execution_count": 24,
     "metadata": {},
     "output_type": "execute_result"
    }
   ],
   "source": [
    "df"
   ]
  },
  {
   "cell_type": "code",
   "execution_count": 3,
   "metadata": {},
   "outputs": [],
   "source": [
    "# attempt at reading in hdf5 files\n",
    "# coding: utf-8\n",
    "from gizmo_analysis import io\n",
    "import h5py\n",
    "import numpy as np\n",
    "import os\n",
    "\n",
    "fh = h5py.File('/pool001/zimi/analysis/FIRE/m12f_res7100/output/snapshot_600.0.hdf5', 'r')\n",
    "gas = fh[\"PartType0\"]"
   ]
  },
  {
   "cell_type": "code",
   "execution_count": 5,
   "metadata": {},
   "outputs": [
    {
     "data": {
      "text/plain": [
       "30715.713"
      ]
     },
     "execution_count": 5,
     "metadata": {},
     "output_type": "execute_result"
    }
   ],
   "source": [
    "gas[\"Potential\"][0]"
   ]
  },
  {
   "cell_type": "code",
   "execution_count": null,
   "metadata": {},
   "outputs": [],
   "source": [
    "import gizmo_analysis as gizmo\n",
    "\n",
    "prop = 'size'\n",
    "\n",
    "part = gizmo.io.Read.read_snapshots(['gas'], 'redshift', 0, '/pool001/zimi/analysis/FIRE/m12f_res7100', properties = 'density', assign_hosts='halo')\n"
   ]
  },
  {
   "cell_type": "code",
   "execution_count": 3,
   "metadata": {},
   "outputs": [
    {
     "data": {
      "text/plain": [
       "array([2.70386439e-03, 9.00215643e-04, 6.98191600e-04, ...,\n",
       "       1.09058213e-07, 1.01814335e-07, 9.33615032e-08])"
      ]
     },
     "execution_count": 3,
     "metadata": {},
     "output_type": "execute_result"
    }
   ],
   "source": [
    "part['gas'].prop('number.density')"
   ]
  },
  {
   "cell_type": "code",
   "execution_count": null,
   "metadata": {},
   "outputs": [],
   "source": [
    "step = 10_000\n",
    "\n",
    "fh = h5py.File(\"/home/analysis/FIRE/m12f_res7100/output/snapshot_600.0.hdf5\", 'r')\n",
    "fn_out = \"m12i/small/snapdir_600/snapshot_600.0.hdf5\"\n",
    "if os.path.exists(fn_out):\n",
    "    os.remove(fn_out)\n",
    "os.makedirs(os.path.dirname(fn_out), exist_ok=True)\n",
    "fout = h5py.File(fn_out, 'w')\n",
    "\n",
    "fh.copy(fh['Header'], fout, 'Header')\n",
    "for ii in [0, 1, 2, 4]:\n",
    "    group = fh[f\"PartType{ii}\"]\n",
    "    gout = fout.create_group(f\"PartType{ii}\")\n",
    "    nparts = group['ParticleIDs'].size\n",
    "    for k in group.keys():\n",
    "        gout.create_dataset(k, data=group[k][::step])\n",
    "\n",
    "numparts = [0] * 6\n",
    "for ii in [0, 1, 2, 4]:\n",
    "    numparts[ii] = fout[f\"PartType{ii}\"]['ParticleIDs'].size\n",
    "fout['Header'].attrs['NumPart_ThisFile'] = np.asarray(numparts, dtype=np.int32)\n",
    "fout['Header'].attrs['NumPart_Total'] = np.asarray(numparts, dtype=np.int32)\n",
    "fout['Header'].attrs['NumFilesPerSnapshot'] = 1\n",
    "\n",
    "fout.close()\n",
    "fh.close()"
   ]
  },
  {
   "cell_type": "code",
   "execution_count": 7,
   "metadata": {},
   "outputs": [
    {
     "data": {
      "text/plain": [
       "array([9.3383055e+04, 3.1090645e+04, 2.4113363e+04, ..., 3.7665310e+00,\n",
       "       3.5163500e+00, 3.2244155e+00], dtype=float32)"
      ]
     },
     "execution_count": 7,
     "metadata": {},
     "output_type": "execute_result"
    }
   ],
   "source": [
    "part['gas']['density']"
   ]
  },
  {
   "cell_type": "code",
   "execution_count": null,
   "metadata": {},
   "outputs": [
    {
     "data": {
      "image/png": "[encoded data removed]",
      "text/plain": [
       "<Figure size 1280x960 with 1 Axes>"
      ]
     },
     "metadata": {},
     "output_type": "display_data"
    }
   ],
   "source": [
    "import matplotlib.pyplot as plt\n",
    "import matplotlib as mpl\n",
    "import numpy as np\n",
    "\n",
    "mpl.rcParams.update(mpl.rcParamsDefault)\n",
    "mpl.rcParams['figure.dpi'] = 200\n",
    "\n",
    "l_1 = 1\n",
    "m = 1\n",
    "r = np.linspace(2*m, 20, 1000)\n",
    "y = (1 - 2*m/r)*l_1*(l_1+1)/(r**2)\n",
    "plt.plot(r, y)\n",
    "# plt.plot(r, (1 - 2*m/r)*2*(2+1)/(r**2))\n",
    "# plt.plot(r, (1 - 2*m/r)*3*(3+1)/(r**2))\n",
    "\n",
    "plt.plot(r, [l_1*(l_1+1)/(27*m**2)]*1000, '--', label = r'$\\omega = \\sqrt{\\frac{l(l+1)}{27M^2}}$')\n",
    "plt.plot(r, [l_1*(l_1+1)/(27*m**2) - 0.01]*1000, '--', label = r'$\\omega < \\sqrt{\\frac{l(l+1)}{27M^2}}$')\n",
    "plt.plot(r, [l_1*(l_1+1)/(27*m**2) + 0.01]*1000, '--', label = r'$\\omega > \\sqrt{\\frac{l(l+1)}{27M^2}}$')\n",
    "# plt.plot(r, [2*(2+1)/(27*m**2)]*1000)\n",
    "# plt.plot(r, [3*(3+1)/(27*m**2)]*1000)\n",
    "plt.xlim([2*m, 20])\n",
    "plt.xticks([2*m, 8*m, 14*m, 20*m], [r'$2M$', r'$8M$',  r'$14M$',  r'$20M$'])\n",
    "plt.yticks([1/27, 2/27, 3/27], [1,2,3])\n",
    "\n",
    "plt.ylabel(r'$U_l(r)\\left[\\frac{1}{27M^2}\\right]$')\n",
    "plt.xlabel(r'$r$')\n",
    "\n",
    "plt.legend(bbox_to_anchor=(0.63, 0.7), framealpha =1)\n",
    "\n",
    "plt.show()"
   ]
  },
  {
   "cell_type": "code",
   "execution_count": null,
   "metadata": {},
   "outputs": [],
   "source": []
  }
 ],
 "metadata": {
  "kernelspec": {
   "display_name": "new_venv",
   "language": "python",
   "name": "python3"
  },
  "language_info": {
   "codemirror_mode": {
    "name": "ipython",
    "version": 3
   },
   "file_extension": ".py",
   "mimetype": "text/x-python",
   "name": "python",
   "nbconvert_exporter": "python",
   "pygments_lexer": "ipython3",
   "version": "3.9.4"
  }
 },
 "nbformat": 4,
 "nbformat_minor": 2
}
